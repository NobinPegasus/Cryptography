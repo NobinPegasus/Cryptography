{
  "nbformat": 4,
  "nbformat_minor": 0,
  "metadata": {
    "colab": {
      "name": "Basic Cryptography.ipynb",
      "provenance": [],
      "collapsed_sections": [],
      "authorship_tag": "ABX9TyPNsaLxdSoRyy29XN25sb3I",
      "include_colab_link": true
    },
    "kernelspec": {
      "name": "python3",
      "display_name": "Python 3"
    },
    "language_info": {
      "name": "python"
    }
  },
  "cells": [
    {
      "cell_type": "markdown",
      "metadata": {
        "id": "view-in-github",
        "colab_type": "text"
      },
      "source": [
        "<a href=\"https://colab.research.google.com/github/NobinPegasus/Cryptography/blob/main/Basic_Cryptography.ipynb\" target=\"_parent\"><img src=\"https://colab.research.google.com/assets/colab-badge.svg\" alt=\"Open In Colab\"/></a>"
      ]
    },
    {
      "cell_type": "markdown",
      "source": [
        "# **Block Caesar Cipher**"
      ],
      "metadata": {
        "id": "X0wMRSYStiRJ"
      }
    },
    {
      "cell_type": "code",
      "execution_count": 18,
      "metadata": {
        "colab": {
          "base_uri": "https://localhost:8080/"
        },
        "id": "hKJ3fC2etc_h",
        "outputId": "2cb3e379-0846-40f4-8c1b-39f8086f7569"
      },
      "outputs": [
        {
          "output_type": "stream",
          "name": "stdout",
          "text": [
            "K   [35, 35]\n",
            "K   [35, 35, 23, 23]\n",
            "K   [35, 35, 23, 23, 7, 7]\n",
            "K   [35, 35, 23, 23, 7, 7, 13, 13]\n",
            "K   [35, 35, 23, 23, 7, 7, 13, 13, 35, 35]\n",
            "K   [35, 35, 23, 23, 7, 7, 13, 13, 35, 35, 23, 23]\n",
            "K   [35, 35, 23, 23, 7, 7, 13, 13, 35, 35, 23, 23, 7, 7]\n",
            "K   [35, 35, 23, 23, 7, 7, 13, 13, 35, 35, 23, 23, 7, 7, 13, 13]\n",
            "Encrypted Text 2441139belabose\n",
            "Length of Encrypted Text 15\n",
            "\n",
            "Decrypted Text 7974802onuxyvzr\n",
            "key [35, 35, 23, 23, 7, 7, 13, 13, 35, 35, 23, 23, 7, 7, 13] \n",
            "length  15\n"
          ]
        }
      ],
      "source": [
        "from itertools import repeat\n",
        "\n",
        "def decrypt(encrypted_text, key, blocksize):\n",
        "  k = []\n",
        "  if (len(key)< len(encrypted_text)):\n",
        "    for i in range(len(encrypted_text)):\n",
        "      for j in key:\n",
        "        k.extend(repeat(j,blocksize))\n",
        "        print(f\"K   {k}\")\n",
        "        if(len(k) >= len(encrypted_text)):\n",
        "          break\n",
        "      if(len(k) >= len(encrypted_text)):\n",
        "        break\n",
        "    leng_encrypted = len(encrypted_text)\n",
        "\n",
        "    extra_padding = leng_encrypted % blocksize\n",
        "\n",
        "    if(len(k) > len(encrypted_text)):\n",
        "      for i in range(extra_padding):\n",
        "        k.pop()\n",
        "\n",
        "\n",
        "\n",
        "  decrypted_text = \"\"\n",
        "\n",
        "\n",
        "  for i in range(len(encrypted_text)):\n",
        "    if(encrypted_text[i] >= 'a' and encrypted_text[i] <= 'z'):\n",
        "      decrypted_text += chr((ord(encrypted_text[i]) - 97 + k[i])%26 + 97)\n",
        "    \n",
        "    elif(encrypted_text[i] >= '0' and encrypted_text[i] <= '9'):\n",
        "      decrypted_text += chr((ord(encrypted_text[i]) - 48 + k[i])%10 + 48)\n",
        "  \n",
        "  print(f\"Encrypted Text {encrypted_text}\")\n",
        "  print(f\"Length of Encrypted Text {len(encrypted_text)}\")\n",
        "  print(\"\")\n",
        "  print(f\"Decrypted Text {decrypted_text}\")\n",
        "  \n",
        "  print(f\"key {k} \\nlength  {len(k)}\")\n",
        "\n",
        "\n",
        "\n",
        "M = \"2441139belabose\"\n",
        "K = [35, 23, 7, 13]\n",
        "block = 2\n",
        "\n",
        "decrypt(M, K, block)"
      ]
    },
    {
      "cell_type": "markdown",
      "metadata": {
        "id": "W7iJHFNXjUHP"
      },
      "source": [
        "# Vigenere Cipher"
      ]
    },
    {
      "cell_type": "markdown",
      "metadata": {
        "id": "HwRI4M15jUHY"
      },
      "source": [
        "Here we will take a look at the Vigenere Cipher.  This cipher is performed by first choosing a secret code word.  The code word is known by both the sending party and the recieving party.  The plaintext and the code word are then both encoded according to some scheme.  We then take the encoded message, and we add the first number of the codeword to the first number of the plaintext, the second number of the codeword to the second letter of the plaintext, and so on until we reach the end of the message, repeating the codeword as many times that is necessary.  Let the secret code word be CAT, and let our encoding scheme be $A\\rightarrow 00$, $B\\rightarrow 01$, $\\dots$, $Z\\rightarrow 25$. \n",
        "\n",
        "$$ \\begin{array}{ccccccc}\n",
        "  & A & T & T & A & C & K \\\\\n",
        "  & 00 & 19 & 19 & 00 & 02 & 10 \\\\\n",
        "  & C & A & T & C & A & T \\\\\n",
        "+ & 02 & 00 & 19 & 02 & 00 & 19 \\\\\n",
        "\\hline\n",
        "  & 02 & 19 & 12 & 02 & 02 & 03 \\\\\n",
        "  & C & T & M & C & C & D\n",
        "\\end{array} $$\n",
        "\n",
        "We can see this implemented in the following code."
      ]
    },
    {
      "cell_type": "code",
      "execution_count": null,
      "metadata": {
        "id": "3GPUFCnQjUHb"
      },
      "outputs": [],
      "source": [
        "# this takes a string and converts it into numbers\n",
        "def digitize(string):\n",
        "    # create a new array to contains the digitized string\n",
        "    cipher_text = []\n",
        "    # for each element of the string, append its corresponding digit to the cipher_text[] array\n",
        "    for i in string:\n",
        "        if i == 'A' or i == 'a': cipher_text.append(0)\n",
        "        if i == 'B' or i == 'b': cipher_text.append(1)\n",
        "        if i == 'C' or i == 'c': cipher_text.append(2)\n",
        "        if i == 'D' or i == 'd': cipher_text.append(3)\n",
        "        if i == 'E' or i == 'e': cipher_text.append(4)\n",
        "        if i == 'F' or i == 'f': cipher_text.append(5)\n",
        "        if i == 'G' or i == 'g': cipher_text.append(6)\n",
        "        if i == 'H' or i == 'h': cipher_text.append(7)\n",
        "        if i == 'I' or i == 'i': cipher_text.append(8)\n",
        "        if i == 'J' or i == 'j': cipher_text.append(9)\n",
        "        if i == 'K' or i == 'k': cipher_text.append(10)\n",
        "        if i == 'L' or i == 'l': cipher_text.append(11)\n",
        "        if i == 'M' or i == 'm': cipher_text.append(12)\n",
        "        if i == 'N' or i == 'n': cipher_text.append(13)\n",
        "        if i == 'O' or i == 'o': cipher_text.append(14)\n",
        "        if i == 'P' or i == 'p': cipher_text.append(15)\n",
        "        if i == 'Q' or i == 'q': cipher_text.append(16)\n",
        "        if i == 'R' or i == 'r': cipher_text.append(17)\n",
        "        if i == 'S' or i == 's': cipher_text.append(18)\n",
        "        if i == 'T' or i == 't': cipher_text.append(19)\n",
        "        if i == 'U' or i == 'u': cipher_text.append(20)\n",
        "        if i == 'V' or i == 'v': cipher_text.append(21)\n",
        "        if i == 'W' or i == 'w': cipher_text.append(22)\n",
        "        if i == 'X' or i == 'x': cipher_text.append(23)\n",
        "        if i == 'Y' or i == 'y': cipher_text.append(24)\n",
        "        if i == 'Z' or i == 'z': cipher_text.append(25)\n",
        "    return cipher_text\n",
        "        \n",
        "# takes a digitized array, and turns it back into the plain text, just as the \n",
        "# method above does\n",
        "def alphabetize(digits):\n",
        "    plain_text = \"\"\n",
        "    for i in digits:\n",
        "        if i == 0: plain_text = plain_text + \"A\"\n",
        "        if i == 1: plain_text = plain_text + \"B\"\n",
        "        if i == 2: plain_text = plain_text + \"C\"\n",
        "        if i == 3: plain_text = plain_text + \"D\"\n",
        "        if i == 4: plain_text = plain_text + \"E\"\n",
        "        if i == 5: plain_text = plain_text + \"F\"\n",
        "        if i == 6: plain_text = plain_text + \"G\"\n",
        "        if i == 7: plain_text = plain_text + \"H\"\n",
        "        if i == 8: plain_text = plain_text + \"I\"\n",
        "        if i == 9: plain_text = plain_text + \"J\"\n",
        "        if i == 10: plain_text = plain_text + \"K\"\n",
        "        if i == 11: plain_text = plain_text + \"L\"\n",
        "        if i == 12: plain_text = plain_text + \"M\"\n",
        "        if i == 13: plain_text = plain_text + \"N\"\n",
        "        if i == 14: plain_text = plain_text + \"O\"\n",
        "        if i == 15: plain_text = plain_text + \"P\"\n",
        "        if i == 16: plain_text = plain_text + \"Q\"\n",
        "        if i == 17: plain_text = plain_text + \"R\"\n",
        "        if i == 18: plain_text = plain_text + \"S\"\n",
        "        if i == 19: plain_text = plain_text + \"T\"\n",
        "        if i == 20: plain_text = plain_text + \"U\"\n",
        "        if i == 21: plain_text = plain_text + \"V\"\n",
        "        if i == 22: plain_text = plain_text + \"W\"\n",
        "        if i == 23: plain_text = plain_text + \"X\"\n",
        "        if i == 24: plain_text = plain_text + \"Y\"\n",
        "        if i == 25: plain_text = plain_text + \"Z\"\n",
        "    return plain_text\n",
        "       \n",
        "    \n",
        "# here we define the VignereEncrypt and Decrypt method. \n",
        "def VigenereEncrypt(plaintext: str, codeword: str):\n",
        "    # take in the plaintext string and the keyword,\n",
        "    # create the digitized array\n",
        "    ciphertext = digitize(plaintext)\n",
        "    # create the digitized codeword\n",
        "    code = digitize(codeword)\n",
        "    # go through the digitized plaintext and encipher it \n",
        "    for i in range(0,len(ciphertext)):\n",
        "        position = i % len(code)\n",
        "        ciphertext[i] = (ciphertext[i] + code[position]) % 26\n",
        "    # return the ciphertext\n",
        "    return alphabetize(ciphertext)\n",
        "\n",
        "# do the reverse\n",
        "def VigenereDecrypt(ciphertext: str, codeword: str):\n",
        "    # digitize the cipher text\n",
        "    plaintext = digitize(ciphertext)\n",
        "    # and the codeword\n",
        "    code = digitize(codeword)\n",
        "    # then go through and decode the ciphertext\n",
        "    for i in range(0,len(plaintext)):\n",
        "        position = i % len(code)\n",
        "        plaintext[i] = (plaintext[i] - code[position]) % 26\n",
        "    # return the plaintext string.\n",
        "    return alphabetize(plaintext)"
      ]
    },
    {
      "cell_type": "markdown",
      "metadata": {
        "id": "dL2YH4mojUHk"
      },
      "source": [
        "Here we have an example of this code in use.  We use the same message as the example above, as well as the same code word.  We call the `VigenereEncrypt()` method to encrypt the word ATTACK, then we demostrate the `VigenereDecrypt()` function to decrypt the message CTMCCD."
      ]
    },
    {
      "cell_type": "code",
      "execution_count": null,
      "metadata": {
        "colab": {
          "base_uri": "https://localhost:8080/"
        },
        "id": "Gu4sVBaNjUHl",
        "outputId": "f92e236f-6b0d-4b65-e0c4-cccb1d09f78e"
      },
      "outputs": [
        {
          "output_type": "stream",
          "name": "stdout",
          "text": [
            "CTMCCD\n",
            "ATTACK\n"
          ]
        }
      ],
      "source": [
        "print(VigenereEncrypt(\"Attack\", \"Cat\"))\n",
        "print(VigenereDecrypt(\"CTMCCD\", \"CAT\"))"
      ]
    },
    {
      "cell_type": "markdown",
      "source": [
        "###Import Libraries"
      ],
      "metadata": {
        "id": "AVN7K-0V4Ah8"
      }
    },
    {
      "cell_type": "code",
      "source": [
        "# !pip uninstall crypto\n",
        "# !pip uninstall pycrypto\n",
        "\n",
        "# !pip install pycrypto\n",
        "# !pip install pycryptodome\n",
        "# !pip install Padding\n",
        "\n",
        "from Crypto.Cipher import AES, PKCS1_OAEP\n",
        "from Crypto.PublicKey import RSA\n",
        "from Crypto.Signature.pkcs1_15 import PKCS115_SigScheme\n",
        "from Crypto.Hash import SHA256\n",
        "from timeit import default_timer as timer\n",
        "import Padding\n",
        "import json\n",
        "import os\n"
      ],
      "metadata": {
        "id": "0H9OkavG3sSB"
      },
      "execution_count": 1,
      "outputs": []
    },
    {
      "cell_type": "markdown",
      "source": [
        "### AES Encryption and Decryption\n",
        "\n"
      ],
      "metadata": {
        "id": "pf4sTEhb37fU"
      }
    },
    {
      "cell_type": "code",
      "source": [
        "def AesEncrypt(plaintext, key, mode, iv = None):\n",
        "    start_time = timer()\n",
        "    plaintext = Padding.appendPadding(plaintext, blocksize=Padding.AES_blocksize, mode=0)\n",
        "    if iv == None: cipher = AES.new(key, mode)\n",
        "    else: cipher = AES.new(key, mode, iv)\n",
        "    ciphertext = cipher.encrypt(plaintext.encode())\n",
        "    \n",
        "    return ciphertext, timer() - start_time\n",
        "    \n",
        "\n",
        "\n",
        "def AesDecrypt(ciphertext, key, mode, iv = None):\n",
        "    start_time = timer()\n",
        "    if iv == None: cipher = AES.new(key, mode)\n",
        "    else: cipher = AES.new(key, mode, iv)\n",
        "    plaintext = cipher.decrypt(ciphertext)\n",
        "    plaintext = Padding.removePadding(plaintext.decode(), mode=0)\n",
        "    \n",
        "    return plaintext, timer() - start_time\n",
        "\n",
        "\n",
        "\n"
      ],
      "metadata": {
        "id": "FHf5PLim30Im"
      },
      "execution_count": 2,
      "outputs": []
    },
    {
      "cell_type": "markdown",
      "source": [
        "### RSA Encryption and Decryption\n",
        "\n",
        "\n"
      ],
      "metadata": {
        "id": "5pc4k4YD39H_"
      }
    },
    {
      "cell_type": "code",
      "source": [
        "\n",
        "def RsaEncrypt(plaintext, public_key):\n",
        "    start_time = timer()\n",
        "    cipher = PKCS1_OAEP.new(public_key)\n",
        "    ciphertext = cipher.encrypt(plaintext.encode())\n",
        "    \n",
        "    return ciphertext, timer() - start_time\n",
        "\n",
        "def RsaDecrypt(ciphertext, private_key):\n",
        "    start_time = timer()\n",
        "    cipher = PKCS1_OAEP.new(private_key)\n",
        "    plaintext = cipher.decrypt(ciphertext)\n",
        "    plaintext = plaintext.decode()\n",
        "    \n",
        "    return plaintext, timer() - start_time\n"
      ],
      "metadata": {
        "id": "gZHBhEuB3svI"
      },
      "execution_count": 3,
      "outputs": []
    }
  ]
}